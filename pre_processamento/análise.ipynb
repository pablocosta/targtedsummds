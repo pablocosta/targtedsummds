{
 "cells": [
  {
   "cell_type": "code",
   "execution_count": 1,
   "metadata": {},
   "outputs": [
    {
     "name": "stderr",
     "output_type": "stream",
     "text": [
      "/home/pablo/.conda/envs/torch/lib/python3.7/site-packages/ipykernel_launcher.py:2: TqdmDeprecationWarning: This function will be removed in tqdm==5.0.0\n",
      "Please use `tqdm.notebook.*` instead of `tqdm._tqdm_notebook.*`\n",
      "  \n",
      "/home/pablo/.conda/envs/torch/lib/python3.7/site-packages/tqdm/std.py:658: FutureWarning: The Panel class is removed from pandas. Accessing it from the top-level namespace will also be removed in the next version\n",
      "  from pandas import Panel\n"
     ]
    }
   ],
   "source": [
    "import pandas as pd\n",
    "from tqdm._tqdm_notebook import tqdm_notebook\n",
    "tqdm_notebook.pandas()\n"
   ]
  },
  {
   "cell_type": "code",
   "execution_count": 2,
   "metadata": {},
   "outputs": [
    {
     "name": "stdout",
     "output_type": "stream",
     "text": [
      "(132373, 14)\n"
     ]
    },
    {
     "name": "stderr",
     "output_type": "stream",
     "text": [
      "/home/pablo/.conda/envs/torch/lib/python3.7/site-packages/IPython/core/interactiveshell.py:3020: DtypeWarning: Columns (2) have mixed types.Specify dtype option on import or set low_memory=False.\n",
      "  interactivity=interactivity, compiler=compiler, result=result)\n"
     ]
    }
   ],
   "source": [
    "df = pd.read_csv(\"../corpus/B2W-Reviews01.csv\", sep=\";\")\n",
    "print(df.shape)"
   ]
  },
  {
   "cell_type": "code",
   "execution_count": 3,
   "metadata": {},
   "outputs": [],
   "source": [
    "df = df.drop([\"submission_date\", \"recommend_to_a_friend\"], axis=1)\n",
    "df[\"reviewer_birth_year\"] = df[\"reviewer_birth_year\"].fillna(value= 1900)"
   ]
  },
  {
   "cell_type": "code",
   "execution_count": 4,
   "metadata": {},
   "outputs": [
    {
     "data": {
      "text/plain": [
       "<matplotlib.axes._subplots.AxesSubplot at 0x7fbfa0d5b3c8>"
      ]
     },
     "execution_count": 4,
     "metadata": {},
     "output_type": "execute_result"
    }
   ],
   "source": [
    "df[\"site_category_lv1\"].value_counts(dropna=False).plot(kind=\"bar\", figsize=(10,10))"
   ]
  },
  {
   "cell_type": "code",
   "execution_count": 5,
   "metadata": {},
   "outputs": [
    {
     "name": "stdout",
     "output_type": "stream",
     "text": [
      "4136 valores dropados\n"
     ]
    },
    {
     "data": {
      "text/plain": [
       "<matplotlib.axes._subplots.AxesSubplot at 0x7fbf9d6965f8>"
      ]
     },
     "execution_count": 5,
     "metadata": {},
     "output_type": "execute_result"
    },
    {
     "data": {
      "image/png": "[encoded data removed]",
      "text/plain": [
       "<Figure size 432x288 with 1 Axes>"
      ]
     },
     "metadata": {
      "needs_background": "light"
     },
     "output_type": "display_data"
    }
   ],
   "source": [
    "\n",
    "orig = df.shape[0]\n",
    "df = df.dropna(subset=[\"reviewer_gender\"])\n",
    "print(orig - df.shape[0], \"valores dropados\")\n",
    "df[\"reviewer_gender\"].value_counts(dropna=False).plot(kind=\"bar\")"
   ]
  },
  {
   "cell_type": "code",
   "execution_count": 6,
   "metadata": {},
   "outputs": [
    {
     "data": {
      "text/plain": [
       "1981.0    4347\n",
       "1982.0    4346\n",
       "1983.0    4213\n",
       "1984.0    4206\n",
       "1980.0    4126\n",
       "          ... \n",
       "1914.0       1\n",
       "1915.0       1\n",
       "1916.0       1\n",
       "1917.0       1\n",
       "1926.0       1\n",
       "Name: reviewer_birth_year, Length: 115, dtype: int64"
      ]
     },
     "execution_count": 6,
     "metadata": {},
     "output_type": "execute_result"
    }
   ],
   "source": [
    "df['reviewer_birth_year'].value_counts(dropna=False)"
   ]
  },
  {
   "cell_type": "code",
   "execution_count": 7,
   "metadata": {},
   "outputs": [
    {
     "data": {
      "text/plain": [
       "<matplotlib.axes._subplots.AxesSubplot at 0x7fbfa06bd8d0>"
      ]
     },
     "execution_count": 7,
     "metadata": {},
     "output_type": "execute_result"
    },
    {
     "data": {
      "image/png": "[encoded data removed]",
      "text/plain": [
       "<Figure size 720x720 with 1 Axes>"
      ]
     },
     "metadata": {
      "needs_background": "light"
     },
     "output_type": "display_data"
    }
   ],
   "source": [
    "df[\"reviewer_state\"].value_counts(dropna=False).plot(kind=\"bar\", figsize=(10,10))"
   ]
  },
  {
   "cell_type": "code",
   "execution_count": 8,
   "metadata": {},
   "outputs": [
    {
     "name": "stdout",
     "output_type": "stream",
     "text": [
      "317 Valores removidos\n"
     ]
    }
   ],
   "source": [
    "counts = df['reviewer_birth_year'].value_counts()\n",
    "\n",
    "res = df[df['reviewer_birth_year'].isin(counts[counts < 40].index)]\n",
    "orig = df.shape[0]\n",
    "df = df.drop(res['reviewer_birth_year'].dropna().index)\n",
    "\n",
    "print(orig - df.shape[0], \"Valores removidos\")"
   ]
  },
  {
   "cell_type": "code",
   "execution_count": 9,
   "metadata": {},
   "outputs": [
    {
     "name": "stdout",
     "output_type": "stream",
     "text": [
      "6779 Valores removidos\n"
     ]
    }
   ],
   "source": [
    "counts = df['reviewer_state'].value_counts()\n",
    "\n",
    "res = df[df['reviewer_state'].isin(counts[counts < 1000].index)]\n",
    "orig = df.shape[0]\n",
    "df = df.drop(res['reviewer_state'].dropna().index)\n",
    "\n",
    "print(orig - df.shape[0], \"Valores removidos\")"
   ]
  },
  {
   "cell_type": "code",
   "execution_count": 10,
   "metadata": {},
   "outputs": [
    {
     "data": {
      "text/plain": [
       "<matplotlib.axes._subplots.AxesSubplot at 0x7fbfa20eecf8>"
      ]
     },
     "execution_count": 10,
     "metadata": {},
     "output_type": "execute_result"
    },
    {
     "data": {
      "image/png": "[encoded data removed]",
      "text/plain": [
       "<Figure size 720x720 with 1 Axes>"
      ]
     },
     "metadata": {
      "needs_background": "light"
     },
     "output_type": "display_data"
    }
   ],
   "source": [
    "df[\"reviewer_state\"].value_counts(dropna=False).plot(kind=\"bar\", figsize=(10,10))"
   ]
  },
  {
   "cell_type": "code",
   "execution_count": 11,
   "metadata": {},
   "outputs": [],
   "source": [
    "df = df.drop([\"reviewer_id\", \"product_id\", \"product_name\", \"product_brand\", \"site_category_lv1\", \n",
    "         \"site_category_lv2\", \"overall_rating\"], axis=1)"
   ]
  },
  {
   "cell_type": "code",
   "execution_count": null,
   "metadata": {},
   "outputs": [],
   "source": []
  },
  {
   "cell_type": "code",
   "execution_count": 12,
   "metadata": {},
   "outputs": [],
   "source": [
    "import string\n",
    "import spacy\n",
    "import re\n",
    "\n",
    "nlp = spacy.load(\"pt_core_news_sm\")\n",
    "\n",
    "punctuations = string.punctuation\n",
    "\n",
    "\n",
    "\n",
    "def tokenize(text, logging=False):\n",
    "    tokens = [tok.lemma_.lower().strip() for tok in nlp(text)]\n",
    "    \n",
    "    return \" \".join(tokens)"
   ]
  },
  {
   "cell_type": "code",
   "execution_count": 13,
   "metadata": {},
   "outputs": [
    {
     "data": {
      "application/vnd.jupyter.widget-view+json": {
       "model_id": "6ab79b3ccee042fc86797aac78598181",
       "version_major": 2,
       "version_minor": 0
      },
      "text/plain": [
       "HBox(children=(FloatProgress(value=0.0, max=121141.0), HTML(value='')))"
      ]
     },
     "metadata": {},
     "output_type": "display_data"
    },
    {
     "name": "stdout",
     "output_type": "stream",
     "text": [
      "\n"
     ]
    },
    {
     "data": {
      "application/vnd.jupyter.widget-view+json": {
       "model_id": "afe75c64dace42e5be0fa5913e0f6d26",
       "version_major": 2,
       "version_minor": 0
      },
      "text/plain": [
       "HBox(children=(FloatProgress(value=0.0, max=121141.0), HTML(value='')))"
      ]
     },
     "metadata": {},
     "output_type": "display_data"
    },
    {
     "name": "stdout",
     "output_type": "stream",
     "text": [
      "\n"
     ]
    }
   ],
   "source": [
    "df[\"review_text\"] = df[\"review_text\"].progress_apply(lambda x : tokenize(x))\n",
    "df[\"review_title\"] = df[\"review_title\"].progress_apply(lambda x : tokenize(x))"
   ]
  },
  {
   "cell_type": "code",
   "execution_count": 14,
   "metadata": {},
   "outputs": [
    {
     "data": {
      "text/plain": [
       "(84519, 5)"
      ]
     },
     "execution_count": 14,
     "metadata": {},
     "output_type": "execute_result"
    }
   ],
   "source": [
    "#removemos sentencas a serem geradsa maiores que 10\n",
    "#removemos sentencas a serem analisadas maiores que 30\n",
    "df.shape\n",
    "df = df[df['review_text'].str.split(\" \").str.len().lt(30)]\n",
    "df = df[df['review_title'].str.split(\" \").str.len().lt(10)]\n",
    "df.shape\n"
   ]
  },
  {
   "cell_type": "code",
   "execution_count": 15,
   "metadata": {},
   "outputs": [
    {
     "ename": "NameError",
     "evalue": "name 'filter_string' is not defined",
     "output_type": "error",
     "traceback": [
      "\u001b[0;31m---------------------------------------------------------------------------\u001b[0m",
      "\u001b[0;31mNameError\u001b[0m                                 Traceback (most recent call last)",
      "\u001b[0;32m<ipython-input-15-29f5122f17ed>\u001b[0m in \u001b[0;36m<module>\u001b[0;34m\u001b[0m\n\u001b[0;32m----> 1\u001b[0;31m \u001b[0mdf\u001b[0m\u001b[0;34m[\u001b[0m\u001b[0;34m\"size\"\u001b[0m\u001b[0;34m]\u001b[0m \u001b[0;34m=\u001b[0m \u001b[0mdf\u001b[0m\u001b[0;34m[\u001b[0m\u001b[0;34m\"review_text\"\u001b[0m\u001b[0;34m]\u001b[0m\u001b[0;34m.\u001b[0m\u001b[0mapply\u001b[0m\u001b[0;34m(\u001b[0m\u001b[0;32mlambda\u001b[0m \u001b[0mx\u001b[0m \u001b[0;34m:\u001b[0m \u001b[0mfilter_string\u001b[0m\u001b[0;34m(\u001b[0m\u001b[0mx\u001b[0m\u001b[0;34m)\u001b[0m\u001b[0;34m)\u001b[0m\u001b[0;34m\u001b[0m\u001b[0;34m\u001b[0m\u001b[0m\n\u001b[0m\u001b[1;32m      2\u001b[0m \u001b[0mdf\u001b[0m\u001b[0;34m[\u001b[0m\u001b[0;34m\"size\"\u001b[0m\u001b[0;34m]\u001b[0m\u001b[0;34m.\u001b[0m\u001b[0mdescribe\u001b[0m\u001b[0;34m(\u001b[0m\u001b[0;34m)\u001b[0m\u001b[0;34m\u001b[0m\u001b[0;34m\u001b[0m\u001b[0m\n",
      "\u001b[0;32m~/.conda/envs/torch/lib/python3.7/site-packages/pandas/core/series.py\u001b[0m in \u001b[0;36mapply\u001b[0;34m(self, func, convert_dtype, args, **kwds)\u001b[0m\n\u001b[1;32m   3846\u001b[0m             \u001b[0;32melse\u001b[0m\u001b[0;34m:\u001b[0m\u001b[0;34m\u001b[0m\u001b[0;34m\u001b[0m\u001b[0m\n\u001b[1;32m   3847\u001b[0m                 \u001b[0mvalues\u001b[0m \u001b[0;34m=\u001b[0m \u001b[0mself\u001b[0m\u001b[0;34m.\u001b[0m\u001b[0mastype\u001b[0m\u001b[0;34m(\u001b[0m\u001b[0mobject\u001b[0m\u001b[0;34m)\u001b[0m\u001b[0;34m.\u001b[0m\u001b[0mvalues\u001b[0m\u001b[0;34m\u001b[0m\u001b[0;34m\u001b[0m\u001b[0m\n\u001b[0;32m-> 3848\u001b[0;31m                 \u001b[0mmapped\u001b[0m \u001b[0;34m=\u001b[0m \u001b[0mlib\u001b[0m\u001b[0;34m.\u001b[0m\u001b[0mmap_infer\u001b[0m\u001b[0;34m(\u001b[0m\u001b[0mvalues\u001b[0m\u001b[0;34m,\u001b[0m \u001b[0mf\u001b[0m\u001b[0;34m,\u001b[0m \u001b[0mconvert\u001b[0m\u001b[0;34m=\u001b[0m\u001b[0mconvert_dtype\u001b[0m\u001b[0;34m)\u001b[0m\u001b[0;34m\u001b[0m\u001b[0;34m\u001b[0m\u001b[0m\n\u001b[0m\u001b[1;32m   3849\u001b[0m \u001b[0;34m\u001b[0m\u001b[0m\n\u001b[1;32m   3850\u001b[0m         \u001b[0;32mif\u001b[0m \u001b[0mlen\u001b[0m\u001b[0;34m(\u001b[0m\u001b[0mmapped\u001b[0m\u001b[0;34m)\u001b[0m \u001b[0;32mand\u001b[0m \u001b[0misinstance\u001b[0m\u001b[0;34m(\u001b[0m\u001b[0mmapped\u001b[0m\u001b[0;34m[\u001b[0m\u001b[0;36m0\u001b[0m\u001b[0;34m]\u001b[0m\u001b[0;34m,\u001b[0m \u001b[0mSeries\u001b[0m\u001b[0;34m)\u001b[0m\u001b[0;34m:\u001b[0m\u001b[0;34m\u001b[0m\u001b[0;34m\u001b[0m\u001b[0m\n",
      "\u001b[0;32mpandas/_libs/lib.pyx\u001b[0m in \u001b[0;36mpandas._libs.lib.map_infer\u001b[0;34m()\u001b[0m\n",
      "\u001b[0;32m<ipython-input-15-29f5122f17ed>\u001b[0m in \u001b[0;36m<lambda>\u001b[0;34m(x)\u001b[0m\n\u001b[0;32m----> 1\u001b[0;31m \u001b[0mdf\u001b[0m\u001b[0;34m[\u001b[0m\u001b[0;34m\"size\"\u001b[0m\u001b[0;34m]\u001b[0m \u001b[0;34m=\u001b[0m \u001b[0mdf\u001b[0m\u001b[0;34m[\u001b[0m\u001b[0;34m\"review_text\"\u001b[0m\u001b[0;34m]\u001b[0m\u001b[0;34m.\u001b[0m\u001b[0mapply\u001b[0m\u001b[0;34m(\u001b[0m\u001b[0;32mlambda\u001b[0m \u001b[0mx\u001b[0m \u001b[0;34m:\u001b[0m \u001b[0mfilter_string\u001b[0m\u001b[0;34m(\u001b[0m\u001b[0mx\u001b[0m\u001b[0;34m)\u001b[0m\u001b[0;34m)\u001b[0m\u001b[0;34m\u001b[0m\u001b[0;34m\u001b[0m\u001b[0m\n\u001b[0m\u001b[1;32m      2\u001b[0m \u001b[0mdf\u001b[0m\u001b[0;34m[\u001b[0m\u001b[0;34m\"size\"\u001b[0m\u001b[0;34m]\u001b[0m\u001b[0;34m.\u001b[0m\u001b[0mdescribe\u001b[0m\u001b[0;34m(\u001b[0m\u001b[0;34m)\u001b[0m\u001b[0;34m\u001b[0m\u001b[0;34m\u001b[0m\u001b[0m\n",
      "\u001b[0;31mNameError\u001b[0m: name 'filter_string' is not defined"
     ]
    }
   ],
   "source": [
    "df[\"size\"] = df[\"review_text\"].apply(lambda x : filter_string(x))\n",
    "df[\"size\"].describe()"
   ]
  },
  {
   "cell_type": "code",
   "execution_count": 16,
   "metadata": {},
   "outputs": [
    {
     "data": {
      "application/vnd.jupyter.widget-view+json": {
       "model_id": "acd6196f0079415d9ccb19804e78104f",
       "version_major": 2,
       "version_minor": 0
      },
      "text/plain": [
       "HBox(children=(FloatProgress(value=0.0, max=84519.0), HTML(value='')))"
      ]
     },
     "metadata": {},
     "output_type": "display_data"
    },
    {
     "name": "stdout",
     "output_type": "stream",
     "text": [
      "\n"
     ]
    },
    {
     "data": {
      "application/vnd.jupyter.widget-view+json": {
       "model_id": "49b1490b36414df3828636db3554f24a",
       "version_major": 2,
       "version_minor": 0
      },
      "text/plain": [
       "HBox(children=(FloatProgress(value=0.0, max=84519.0), HTML(value='')))"
      ]
     },
     "metadata": {},
     "output_type": "display_data"
    },
    {
     "name": "stdout",
     "output_type": "stream",
     "text": [
      "\n"
     ]
    }
   ],
   "source": [
    "def clean_text(text, logging=False):\n",
    "    \"\"\" \n",
    "        TEMOS QUE REMOVER A PONTUACAO, PRONOMES E SIMBOLOS DE REAIS.\n",
    "        SUBSTITUIR NÚMEROS PRLO TOKEN <NUM> \n",
    "        \n",
    "    \"\"\"\n",
    "    \n",
    "    #tokens = [tok.lemma_.lower().strip() for tok in nlp(text) if not(tok.is_stop)]\n",
    "    tokens = text.split(\" \")\n",
    "    tokens = [tok for tok in tokens if tok not in punctuations]\n",
    "    tokens = [re.sub('\\r$', '', tok) for tok in tokens]\n",
    "    tokens = ' '.join(tokens)\n",
    "    toks   = []\n",
    "    for tok in nlp(tokens):\n",
    "        if tok.pos_ == 'NUM':\n",
    "            toks.append(\"<num>\".lower().strip())\n",
    "        else:\n",
    "            toks.append(tok.lemma_.lower().strip())\n",
    "            \n",
    "        \n",
    "    #tokens = [tok.pos_ for tok in nlp(tokens) if tok.pos_ == 'NUM' else str(tok)]\n",
    "\n",
    "    return \" \".join(toks)\n",
    "\n",
    "df[\"review_text\"] = df[\"review_text\"].progress_apply(lambda x : clean_text(x))\n",
    "df[\"review_title\"] = df[\"review_title\"].progress_apply(lambda x : clean_text(x))"
   ]
  },
  {
   "cell_type": "code",
   "execution_count": 17,
   "metadata": {},
   "outputs": [
    {
     "data": {
      "text/plain": [
       "count    83226.000000\n",
       "mean        42.757516\n",
       "std         12.659801\n",
       "min         18.000000\n",
       "25%         33.000000\n",
       "50%         41.000000\n",
       "75%         51.000000\n",
       "max         84.000000\n",
       "Name: reviewer_birth_year, dtype: float64"
      ]
     },
     "execution_count": 17,
     "metadata": {},
     "output_type": "execute_result"
    }
   ],
   "source": [
    "df[\"reviewer_birth_year\"] = 2020 - df[\"reviewer_birth_year\"]\n",
    "df = df[df[\"reviewer_birth_year\"] != 120.0] # é um oulier\n",
    "df[\"reviewer_birth_year\"].describe()"
   ]
  },
  {
   "cell_type": "code",
   "execution_count": 18,
   "metadata": {},
   "outputs": [
    {
     "data": {
      "text/plain": [
       "(83226, 5)"
      ]
     },
     "execution_count": 18,
     "metadata": {},
     "output_type": "execute_result"
    }
   ],
   "source": [
    "df = df.dropna(subset=[\"review_text\"])\n",
    "df.shape"
   ]
  },
  {
   "cell_type": "code",
   "execution_count": 19,
   "metadata": {},
   "outputs": [],
   "source": [
    "df.to_csv(\"post_processed.csv\", sep=\"\\t\", index=False)"
   ]
  },
  {
   "cell_type": "code",
   "execution_count": 24,
   "metadata": {},
   "outputs": [],
   "source": [
    "text_complex = open(\"./complex.txt\", \"w+\")\n",
    "for ele in df[\"review_text\"].tolist():\n",
    "    if len(ele.split(\" \")) <= 30:\n",
    "        for word in ele.split(\" \"):\n",
    "            text_complex.write(word+\" \")\n",
    "        text_complex.write(\"\\n\\n\")\n",
    "\n",
    "\n",
    "text_complex.close()\n"
   ]
  },
  {
   "cell_type": "code",
   "execution_count": 25,
   "metadata": {},
   "outputs": [],
   "source": [
    "text_complex = open(\"./title.txt\", \"w+\")\n",
    "for ele in df[\"review_title\"].tolist():\n",
    "    if len(ele.split(\" \")) <= 30:\n",
    "        for word in ele.split(\" \"):\n",
    "            text_complex.write(word+\" \")\n",
    "        text_complex.write(\"\\n\\n\")\n",
    "\n",
    "\n",
    "text_complex.close()\n",
    "\n",
    "\n"
   ]
  },
  {
   "cell_type": "code",
   "execution_count": null,
   "metadata": {},
   "outputs": [],
   "source": []
  },
  {
   "cell_type": "code",
   "execution_count": null,
   "metadata": {},
   "outputs": [],
   "source": [
    "\n"
   ]
  },
  {
   "cell_type": "code",
   "execution_count": 36,
   "metadata": {},
   "outputs": [],
   "source": [
    "df = pd.read_csv(\"post_processed.csv\", sep=\"\\t\")"
   ]
  },
  {
   "cell_type": "code",
   "execution_count": 37,
   "metadata": {},
   "outputs": [],
   "source": [
    "df[\"reviewer_birth_year\"] = 2019 - df[\"reviewer_birth_year\"]"
   ]
  },
  {
   "cell_type": "code",
   "execution_count": 38,
   "metadata": {},
   "outputs": [],
   "source": [
    "df = df[df[\"reviewer_birth_year\"] != 119.0] # é um oulier"
   ]
  },
  {
   "cell_type": "code",
   "execution_count": 39,
   "metadata": {},
   "outputs": [
    {
     "data": {
      "text/plain": [
       "<matplotlib.axes._subplots.AxesSubplot at 0x7fbf3d016278>"
      ]
     },
     "execution_count": 39,
     "metadata": {},
     "output_type": "execute_result"
    },
    {
     "data": {
      "image/png": "[encoded data removed]",
      "text/plain": [
       "<Figure size 1440x720 with 1 Axes>"
      ]
     },
     "metadata": {
      "needs_background": "light"
     },
     "output_type": "display_data"
    }
   ],
   "source": [
    "df[\"reviewer_birth_year\"].value_counts().plot(kind=\"bar\", figsize=(20,10))"
   ]
  },
  {
   "cell_type": "code",
   "execution_count": 40,
   "metadata": {},
   "outputs": [
    {
     "data": {
      "text/plain": [
       "(83226, 6)"
      ]
     },
     "execution_count": 40,
     "metadata": {},
     "output_type": "execute_result"
    }
   ],
   "source": [
    "df.shape"
   ]
  },
  {
   "cell_type": "code",
   "execution_count": 41,
   "metadata": {},
   "outputs": [],
   "source": [
    "df.to_csv(\"post_processed.csv\", sep=\"\\t\")"
   ]
  },
  {
   "cell_type": "code",
   "execution_count": null,
   "metadata": {},
   "outputs": [],
   "source": []
  },
  {
   "cell_type": "code",
   "execution_count": null,
   "metadata": {},
   "outputs": [],
   "source": []
  },
  {
   "cell_type": "code",
   "execution_count": 54,
   "metadata": {},
   "outputs": [
    {
     "data": {
      "text/plain": [
       "(83226, 8)"
      ]
     },
     "execution_count": 54,
     "metadata": {},
     "output_type": "execute_result"
    }
   ],
   "source": [
    "df = pd.read_csv(\"post_processed.csv\", sep=\"\\t\")\n",
    "df['age'] = pd.cut(x=df['reviewer_birth_year'], bins=5)\n",
    "df.shape"
   ]
  },
  {
   "cell_type": "code",
   "execution_count": 55,
   "metadata": {},
   "outputs": [
    {
     "data": {
      "text/plain": [
       "0          (57.6, 70.8]\n",
       "1        (17.934, 31.2]\n",
       "2          (31.2, 44.4]\n",
       "3          (31.2, 44.4]\n",
       "4          (31.2, 44.4]\n",
       "              ...      \n",
       "83221      (31.2, 44.4]\n",
       "83222      (31.2, 44.4]\n",
       "83223      (31.2, 44.4]\n",
       "83224    (17.934, 31.2]\n",
       "83225      (31.2, 44.4]\n",
       "Name: age, Length: 83226, dtype: category\n",
       "Categories (5, interval[float64]): [(17.934, 31.2] < (31.2, 44.4] < (44.4, 57.6] < (57.6, 70.8] < (70.8, 84.0]]"
      ]
     },
     "execution_count": 55,
     "metadata": {},
     "output_type": "execute_result"
    }
   ],
   "source": [
    "df['age']"
   ]
  },
  {
   "cell_type": "code",
   "execution_count": 56,
   "metadata": {},
   "outputs": [],
   "source": [
    "#df = df[pd.notnull(df['Gender'])]\n",
    "\n",
    "df = df.dropna(subset=[\"age\"], axis=0)\n",
    "\n",
    "df = df.dropna(subset=[\"review_title\"], axis=0)"
   ]
  },
  {
   "cell_type": "code",
   "execution_count": 58,
   "metadata": {},
   "outputs": [
    {
     "data": {
      "text/plain": [
       "(31.2, 44.4]      33656\n",
       "(44.4, 57.6]      20682\n",
       "(17.934, 31.2]    16667\n",
       "(57.6, 70.8]      10221\n",
       "(70.8, 84.0]       1916\n",
       "Name: age, dtype: int64"
      ]
     },
     "execution_count": 58,
     "metadata": {},
     "output_type": "execute_result"
    }
   ],
   "source": [
    "df['age'].value_counts()"
   ]
  },
  {
   "cell_type": "code",
   "execution_count": 64,
   "metadata": {},
   "outputs": [],
   "source": [
    "df.shape\n",
    "df[\"estado\"] = df[\"reviewer_state\"]\n",
    "df[\"genero\"] = df[\"reviewer_gender\"]\n",
    "df[\"x\"] = df[\"review_text\"]\n",
    "df[\"y\"] = df[\"review_title\"]\n"
   ]
  },
  {
   "cell_type": "code",
   "execution_count": 65,
   "metadata": {},
   "outputs": [],
   "source": [
    "df.to_csv(\"post_processed.csv\", sep=\"\\t\")"
   ]
  },
  {
   "cell_type": "code",
   "execution_count": 63,
   "metadata": {},
   "outputs": [
    {
     "data": {
      "text/html": [
       "<div>\n",
       "<style scoped>\n",
       "    .dataframe tbody tr th:only-of-type {\n",
       "        vertical-align: middle;\n",
       "    }\n",
       "\n",
       "    .dataframe tbody tr th {\n",
       "        vertical-align: top;\n",
       "    }\n",
       "\n",
       "    .dataframe thead th {\n",
       "        text-align: right;\n",
       "    }\n",
       "</style>\n",
       "<table border=\"1\" class=\"dataframe\">\n",
       "  <thead>\n",
       "    <tr style=\"text-align: right;\">\n",
       "      <th></th>\n",
       "      <th>Unnamed: 0</th>\n",
       "      <th>Unnamed: 0.1</th>\n",
       "      <th>review_title</th>\n",
       "      <th>review_text</th>\n",
       "      <th>reviewer_birth_year</th>\n",
       "      <th>reviewer_gender</th>\n",
       "      <th>reviewer_state</th>\n",
       "      <th>age</th>\n",
       "    </tr>\n",
       "  </thead>\n",
       "  <tbody>\n",
       "    <tr>\n",
       "      <th>0</th>\n",
       "      <td>0</td>\n",
       "      <td>0</td>\n",
       "      <td>bom</td>\n",
       "      <td>estar contentar com o comprar entregar rápido ...</td>\n",
       "      <td>62.0</td>\n",
       "      <td>F</td>\n",
       "      <td>RJ</td>\n",
       "      <td>(57.6, 70.8]</td>\n",
       "    </tr>\n",
       "    <tr>\n",
       "      <th>1</th>\n",
       "      <td>1</td>\n",
       "      <td>1</td>\n",
       "      <td>preço imbatível ótima qualidade</td>\n",
       "      <td>por apenas r$ &lt;num&gt; conseguir comprar esse lin...</td>\n",
       "      <td>24.0</td>\n",
       "      <td>M</td>\n",
       "      <td>SC</td>\n",
       "      <td>(17.934, 31.2]</td>\n",
       "    </tr>\n",
       "    <tr>\n",
       "      <th>2</th>\n",
       "      <td>2</td>\n",
       "      <td>2</td>\n",
       "      <td>presentar mais que desejar</td>\n",
       "      <td>meu filhar amar parecer de verdade com tanto d...</td>\n",
       "      <td>35.0</td>\n",
       "      <td>F</td>\n",
       "      <td>SP</td>\n",
       "      <td>(31.2, 44.4]</td>\n",
       "    </tr>\n",
       "    <tr>\n",
       "      <th>3</th>\n",
       "      <td>3</td>\n",
       "      <td>3</td>\n",
       "      <td>gostar bastante do produto</td>\n",
       "      <td>produto excelente qualidade bom câmera desenvo...</td>\n",
       "      <td>33.0</td>\n",
       "      <td>M</td>\n",
       "      <td>GO</td>\n",
       "      <td>(31.2, 44.4]</td>\n",
       "    </tr>\n",
       "    <tr>\n",
       "      <th>4</th>\n",
       "      <td>4</td>\n",
       "      <td>4</td>\n",
       "      <td>gostar do produto</td>\n",
       "      <td>o barulhar e minimo e o ventar ser bem forte o...</td>\n",
       "      <td>33.0</td>\n",
       "      <td>M</td>\n",
       "      <td>SP</td>\n",
       "      <td>(31.2, 44.4]</td>\n",
       "    </tr>\n",
       "    <tr>\n",
       "      <th>...</th>\n",
       "      <td>...</td>\n",
       "      <td>...</td>\n",
       "      <td>...</td>\n",
       "      <td>...</td>\n",
       "      <td>...</td>\n",
       "      <td>...</td>\n",
       "      <td>...</td>\n",
       "      <td>...</td>\n",
       "    </tr>\n",
       "    <tr>\n",
       "      <th>83221</th>\n",
       "      <td>83221</td>\n",
       "      <td>83221</td>\n",
       "      <td>ótimo produto</td>\n",
       "      <td>valer muito estar usar o controlar do xbox e m...</td>\n",
       "      <td>32.0</td>\n",
       "      <td>M</td>\n",
       "      <td>RS</td>\n",
       "      <td>(31.2, 44.4]</td>\n",
       "    </tr>\n",
       "    <tr>\n",
       "      <th>83222</th>\n",
       "      <td>83222</td>\n",
       "      <td>83222</td>\n",
       "      <td>sensacional</td>\n",
       "      <td>prático e baratar super indicar o produto pari...</td>\n",
       "      <td>41.0</td>\n",
       "      <td>F</td>\n",
       "      <td>SP</td>\n",
       "      <td>(31.2, 44.4]</td>\n",
       "    </tr>\n",
       "    <tr>\n",
       "      <th>83223</th>\n",
       "      <td>83223</td>\n",
       "      <td>83223</td>\n",
       "      <td>ótimo produto</td>\n",
       "      <td>chegar antar do prazo prever e corresponder o ...</td>\n",
       "      <td>41.0</td>\n",
       "      <td>F</td>\n",
       "      <td>PR</td>\n",
       "      <td>(31.2, 44.4]</td>\n",
       "    </tr>\n",
       "    <tr>\n",
       "      <th>83224</th>\n",
       "      <td>83224</td>\n",
       "      <td>83224</td>\n",
       "      <td>o produto não ser bom</td>\n",
       "      <td>material fraco poder ser melhor ficar dever o ...</td>\n",
       "      <td>29.0</td>\n",
       "      <td>M</td>\n",
       "      <td>RJ</td>\n",
       "      <td>(17.934, 31.2]</td>\n",
       "    </tr>\n",
       "    <tr>\n",
       "      <th>83225</th>\n",
       "      <td>83225</td>\n",
       "      <td>83225</td>\n",
       "      <td>produto não entregar</td>\n",
       "      <td>comprar esse produto quando chegar estar com a...</td>\n",
       "      <td>38.0</td>\n",
       "      <td>F</td>\n",
       "      <td>ES</td>\n",
       "      <td>(31.2, 44.4]</td>\n",
       "    </tr>\n",
       "  </tbody>\n",
       "</table>\n",
       "<p>83142 rows × 8 columns</p>\n",
       "</div>"
      ],
      "text/plain": [
       "       Unnamed: 0  Unnamed: 0.1                     review_title  \\\n",
       "0               0             0                              bom   \n",
       "1               1             1  preço imbatível ótima qualidade   \n",
       "2               2             2       presentar mais que desejar   \n",
       "3               3             3       gostar bastante do produto   \n",
       "4               4             4                gostar do produto   \n",
       "...           ...           ...                              ...   \n",
       "83221       83221         83221                    ótimo produto   \n",
       "83222       83222         83222                      sensacional   \n",
       "83223       83223         83223                    ótimo produto   \n",
       "83224       83224         83224            o produto não ser bom   \n",
       "83225       83225         83225             produto não entregar   \n",
       "\n",
       "                                             review_text  reviewer_birth_year  \\\n",
       "0      estar contentar com o comprar entregar rápido ...                 62.0   \n",
       "1      por apenas r$ <num> conseguir comprar esse lin...                 24.0   \n",
       "2      meu filhar amar parecer de verdade com tanto d...                 35.0   \n",
       "3      produto excelente qualidade bom câmera desenvo...                 33.0   \n",
       "4      o barulhar e minimo e o ventar ser bem forte o...                 33.0   \n",
       "...                                                  ...                  ...   \n",
       "83221  valer muito estar usar o controlar do xbox e m...                 32.0   \n",
       "83222  prático e baratar super indicar o produto pari...                 41.0   \n",
       "83223  chegar antar do prazo prever e corresponder o ...                 41.0   \n",
       "83224  material fraco poder ser melhor ficar dever o ...                 29.0   \n",
       "83225  comprar esse produto quando chegar estar com a...                 38.0   \n",
       "\n",
       "      reviewer_gender reviewer_state             age  \n",
       "0                   F             RJ    (57.6, 70.8]  \n",
       "1                   M             SC  (17.934, 31.2]  \n",
       "2                   F             SP    (31.2, 44.4]  \n",
       "3                   M             GO    (31.2, 44.4]  \n",
       "4                   M             SP    (31.2, 44.4]  \n",
       "...               ...            ...             ...  \n",
       "83221               M             RS    (31.2, 44.4]  \n",
       "83222               F             SP    (31.2, 44.4]  \n",
       "83223               F             PR    (31.2, 44.4]  \n",
       "83224               M             RJ  (17.934, 31.2]  \n",
       "83225               F             ES    (31.2, 44.4]  \n",
       "\n",
       "[83142 rows x 8 columns]"
      ]
     },
     "execution_count": 63,
     "metadata": {},
     "output_type": "execute_result"
    }
   ],
   "source": [
    "df"
   ]
  },
  {
   "cell_type": "code",
   "execution_count": null,
   "metadata": {},
   "outputs": [],
   "source": [
    "df = pd.read_csv(\"post_processed.csv\", sep=\"\\t\")\n",
    "text_complex = open(\"./complex.txt\", \"w+\")\n",
    "for ele in df[\"review_text\"].tolist():\n",
    "    for word in ele.split(\" \"):\n",
    "        text_complex.write(word+\" \")\n",
    "    text_complex.write(\"\\n\\n\")\n",
    "\n",
    "\n",
    "text_complex.close()\n",
    "\n"
   ]
  },
  {
   "cell_type": "code",
   "execution_count": null,
   "metadata": {},
   "outputs": [],
   "source": [
    "text_complex = open(\"./title.txt\", \"w+\")\n",
    "for ele in df[\"review_title\"].tolist():\n",
    "    for word in ele.split(\" \"):\n",
    "        text_complex.write(word+\" \")\n",
    "    text_complex.write(\"\\n\\n\")\n",
    "\n",
    "\n",
    "text_complex.close()"
   ]
  },
  {
   "cell_type": "code",
   "execution_count": null,
   "metadata": {},
   "outputs": [],
   "source": []
  }
 ],
 "metadata": {
  "kernelspec": {
   "display_name": "Python 3",
   "language": "python",
   "name": "python3"
  },
  "language_info": {
   "codemirror_mode": {
    "name": "ipython",
    "version": 3
   },
   "file_extension": ".py",
   "mimetype": "text/x-python",
   "name": "python",
   "nbconvert_exporter": "python",
   "pygments_lexer": "ipython3",
   "version": "3.7.2"
  }
 },
 "nbformat": 4,
 "nbformat_minor": 2
}
